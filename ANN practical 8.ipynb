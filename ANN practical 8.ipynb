{
 "cells": [
  {
   "cell_type": "markdown",
   "id": "ed9f37e3",
   "metadata": {},
   "source": [
    "# Write a python program to design a Hopfield Network which stores 4\n",
    "vectors."
   ]
  },
  {
   "cell_type": "code",
   "execution_count": 1,
   "id": "ee3aa879",
   "metadata": {},
   "outputs": [
    {
     "name": "stdout",
     "output_type": "stream",
     "text": [
      "Corrupted pattern: [1, -1, -1, -1]\n",
      "Predicted pattern: [ 1. -1.  1. -1.]\n"
     ]
    }
   ],
   "source": [
    "import numpy as np\n",
    "\n",
    "class HopfieldNetwork:\n",
    "    def __init__(self, n):\n",
    "        self.n = n\n",
    "        self.weights = np.zeros((n, n))\n",
    "\n",
    "    def train(self, patterns):\n",
    "        for pattern in patterns:\n",
    "            pattern = np.reshape(pattern, (self.n, 1))\n",
    "            self.weights += np.dot(pattern, pattern.T)\n",
    "        np.fill_diagonal(self.weights, 0)\n",
    "\n",
    "    def predict(self, pattern, max_iter=100):\n",
    "        pattern = np.reshape(pattern, (self.n, 1))\n",
    "        for _ in range(max_iter):\n",
    "            new_pattern = np.sign(np.dot(self.weights, pattern))\n",
    "            if np.array_equal(pattern, new_pattern):\n",
    "                return np.squeeze(new_pattern)\n",
    "            pattern = new_pattern\n",
    "        return np.squeeze(pattern)\n",
    "\n",
    "network = HopfieldNetwork(4)\n",
    "patterns = [[1, -1, 1, -1], [-1, 1, -1, 1],[1,-1,-1,1],[-1,1,1,1]]\n",
    "network.train(patterns)\n",
    "corrupted_pattern = [1, -1, -1, -1]\n",
    "predicted_pattern = network.predict(corrupted_pattern)\n",
    "print(\"Corrupted pattern:\", corrupted_pattern)\n",
    "print(\"Predicted pattern:\", predicted_pattern)"
   ]
  },
  {
   "cell_type": "code",
   "execution_count": null,
   "id": "8edfe876",
   "metadata": {},
   "outputs": [],
   "source": []
  }
 ],
 "metadata": {
  "kernelspec": {
   "display_name": "Python 3 (ipykernel)",
   "language": "python",
   "name": "python3"
  },
  "language_info": {
   "codemirror_mode": {
    "name": "ipython",
    "version": 3
   },
   "file_extension": ".py",
   "mimetype": "text/x-python",
   "name": "python",
   "nbconvert_exporter": "python",
   "pygments_lexer": "ipython3",
   "version": "3.11.5"
  }
 },
 "nbformat": 4,
 "nbformat_minor": 5
}
