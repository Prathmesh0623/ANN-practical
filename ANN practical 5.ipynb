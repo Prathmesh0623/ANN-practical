{
 "cells": [
  {
   "cell_type": "markdown",
   "id": "1debaeb4",
   "metadata": {},
   "source": [
    "# With a suitable example demonstrate the perceptron learning law with its\n",
    "decision regions using python. Give the output in graphical form."
   ]
  },
  {
   "cell_type": "code",
   "execution_count": 1,
   "id": "40c0e9c2",
   "metadata": {},
   "outputs": [
    {
     "name": "stdout",
     "output_type": "stream",
     "text": [
      "Input x: [ 1 -1 -1 -1]\n",
      "Output y: [ 1 -1]\n"
     ]
    }
   ],
   "source": [
    "import numpy as np\n",
    "X = np.array([[1, 1, 1, -1], [-1, -1, 1, 1]])\n",
    "Y = np.array([[1, -1], [-1, 1]])\n",
    "W = np.dot(Y.T, X)\n",
    "\n",
    "def bam(x):\n",
    "    y = np.sign(np.dot(W, x))\n",
    "    return y\n",
    "\n",
    "x_test = np.array([1, -1, -1, -1])\n",
    "y_test = bam(x_test)\n",
    "\n",
    "\n",
    "print(\"Input x:\", x_test)\n",
    "print(\"Output y:\", y_test)"
   ]
  },
  {
   "cell_type": "code",
   "execution_count": null,
   "id": "db69645d",
   "metadata": {},
   "outputs": [],
   "source": []
  }
 ],
 "metadata": {
  "kernelspec": {
   "display_name": "Python 3 (ipykernel)",
   "language": "python",
   "name": "python3"
  },
  "language_info": {
   "codemirror_mode": {
    "name": "ipython",
    "version": 3
   },
   "file_extension": ".py",
   "mimetype": "text/x-python",
   "name": "python",
   "nbconvert_exporter": "python",
   "pygments_lexer": "ipython3",
   "version": "3.11.5"
  }
 },
 "nbformat": 4,
 "nbformat_minor": 5
}
