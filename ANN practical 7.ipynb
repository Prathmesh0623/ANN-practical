{
 "cells": [
  {
   "cell_type": "markdown",
   "id": "eea8e4d9",
   "metadata": {},
   "source": [
    "# 7 Write a python program to show Back Propagation Network for XOR\n",
    "function with Binary Input and Output"
   ]
  },
  {
   "cell_type": "code",
   "execution_count": 2,
   "id": "988f394a",
   "metadata": {},
   "outputs": [
    {
     "name": "stdout",
     "output_type": "stream",
     "text": [
      "Predicted Output:\n",
      "[[0.01869055]\n",
      " [0.98941286]\n",
      " [0.98293159]\n",
      " [0.0142077 ]]\n"
     ]
    }
   ],
   "source": [
    "import numpy as np\n",
    "\n",
    "def sigmoid(x):\n",
    "    return 1 / (1 + np.exp(-x))\n",
    "\n",
    "def sigmoid_derivative(x):\n",
    "    return x * (1 - x)\n",
    "X = np.array([[0, 0], [0, 1], [1, 0], [1, 1]])\n",
    "y = np.array([[0], [1], [1], [0]])\n",
    "\n",
    "\n",
    "np.random.seed(42)\n",
    "\n",
    "weights_0 = 2 * np.random.random((2, 4)) - 1\n",
    "weights_1 = 2 * np.random.random((4, 1)) - 1\n",
    "\n",
    "for i in range(10000):\n",
    "    layer_0 = X\n",
    "    layer_1 = sigmoid(np.dot(layer_0, weights_0))\n",
    "    layer_2 = sigmoid(np.dot(layer_1, weights_1))\n",
    "    \n",
    "    error = y - layer_2\n",
    "    \n",
    "    delta_2 = error * sigmoid_derivative(layer_2)\n",
    "    delta_1 = delta_2.dot(weights_1.T) * sigmoid_derivative(layer_1)\n",
    "    \n",
    "\n",
    "    weights_1 += layer_1.T.dot(delta_2)\n",
    "    weights_0 += layer_0.T.dot(delta_1)\n",
    "\n",
    "output = sigmoid(np.dot(sigmoid(np.dot(X, weights_0)), weights_1))\n",
    "print(\"Predicted Output:\")\n",
    "print(output)"
   ]
  },
  {
   "cell_type": "code",
   "execution_count": null,
   "id": "2e9c033a",
   "metadata": {},
   "outputs": [],
   "source": []
  }
 ],
 "metadata": {
  "kernelspec": {
   "display_name": "Python 3 (ipykernel)",
   "language": "python",
   "name": "python3"
  },
  "language_info": {
   "codemirror_mode": {
    "name": "ipython",
    "version": 3
   },
   "file_extension": ".py",
   "mimetype": "text/x-python",
   "name": "python",
   "nbconvert_exporter": "python",
   "pygments_lexer": "ipython3",
   "version": "3.11.5"
  }
 },
 "nbformat": 4,
 "nbformat_minor": 5
}
