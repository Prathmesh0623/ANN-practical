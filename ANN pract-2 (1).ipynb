{
 "cells": [
  {
   "cell_type": "markdown",
   "metadata": {},
   "source": [
    "# McCulloch-Pitts neural Model\n",
    "practical-2\n",
    "Generate ANDNOT function using McCulloch-Pitts neural net by a python program."
   ]
  },
  {
   "cell_type": "code",
   "execution_count": 9,
   "metadata": {},
   "outputs": [
    {
     "name": "stdout",
     "output_type": "stream",
     "text": [
      "[[ 0]\n",
      " [-1]\n",
      " [ 1]\n",
      " [ 0]]\n",
      "Given truth table is not implemented\n"
     ]
    }
   ],
   "source": [
    "import numpy as np\n",
    "\n",
    "array = []\n",
    "threshold = 1\n",
    "\n",
    "def and_not(x1, x2):\n",
    "    weights = [-1, 1]\n",
    "    inputs = np.array([x1, x2])\n",
    "    product = np.dot(weights, inputs)\n",
    "    array.append(product)\n",
    "\n",
    "and_not(1, 1)\n",
    "and_not(1, 0)\n",
    "and_not(0, 1)\n",
    "and_not(0, 0)\n",
    "r1 = np.array(array).reshape(4, 1)  \n",
    "print(r1)\n",
    "\n",
    "if threshold == 1 and r1[1] >= 1:  \n",
    "    print(\"Given truth table is implemented\")\n",
    "else:\n",
    "    print(\"Given truth table is not implemented\")\n"
   ]
  },
  {
   "cell_type": "code",
   "execution_count": null,
   "metadata": {},
   "outputs": [],
   "source": []
  }
 ],
 "metadata": {
  "kernelspec": {
   "display_name": "Python 3 (ipykernel)",
   "language": "python",
   "name": "python3"
  },
  "language_info": {
   "codemirror_mode": {
    "name": "ipython",
    "version": 3
   },
   "file_extension": ".py",
   "mimetype": "text/x-python",
   "name": "python",
   "nbconvert_exporter": "python",
   "pygments_lexer": "ipython3",
   "version": "3.11.5"
  }
 },
 "nbformat": 4,
 "nbformat_minor": 4
}
