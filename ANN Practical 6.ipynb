{
 "cells": [
  {
   "cell_type": "markdown",
   "id": "bfa19091",
   "metadata": {},
   "source": [
    "# ImplementArtificial Neural Network training process in Python by\n",
    "usingForward Propagation, Back Propagation."
   ]
  },
  {
   "cell_type": "code",
   "execution_count": 1,
   "id": "4b5aac04",
   "metadata": {},
   "outputs": [
    {
     "name": "stdout",
     "output_type": "stream",
     "text": [
      "Input: [0 0], Prediction: [0.00024544]\n",
      "Input: [0 1], Prediction: [0.05559155]\n",
      "Input: [1 0], Prediction: [0.05559155]\n",
      "Input: [1 1], Prediction: [0.93383485]\n"
     ]
    }
   ],
   "source": [
    "import numpy as np\n",
    "\n",
    "class NeuralNetwork:\n",
    "    def __init__(self):\n",
    "        self.weights = np.random.rand(2, 1)\n",
    "        self.bias = np.random.rand(1)\n",
    "\n",
    "    def train(self, X, y, epochs):\n",
    "        for i in range(epochs):\n",
    "            output = self.predict(X)\n",
    "            error = y - output\n",
    "            #backward_prop\n",
    "            delta = error * output * (1 - output)\n",
    "            self.weights += np.dot(X.T, delta)\n",
    "            self.bias += np.sum(delta)\n",
    "\n",
    "    def predict(self, X):\n",
    "        return 1 / (1 + np.exp(-(np.dot(X, self.weights) + self.bias))) #forward_Prop\n",
    "\n",
    "X = np.array([[0, 0], [0, 1], [1, 0], [1, 1]])\n",
    "y = np.array([[0], [0], [0], [1]])\n",
    "\n",
    "nn = NeuralNetwork()\n",
    "nn.train(X, y, epochs=1000)\n",
    "\n",
    "test_data = np.array([[0, 0], [0, 1], [1, 0], [1, 1]])\n",
    "predictions = nn.predict(test_data)\n",
    "\n",
    "for x, prediction in zip(test_data, predictions):\n",
    "    print(f\"Input: {x}, Prediction: {prediction}\")"
   ]
  },
  {
   "cell_type": "code",
   "execution_count": null,
   "id": "52496e34",
   "metadata": {},
   "outputs": [],
   "source": []
  }
 ],
 "metadata": {
  "kernelspec": {
   "display_name": "Python 3 (ipykernel)",
   "language": "python",
   "name": "python3"
  },
  "language_info": {
   "codemirror_mode": {
    "name": "ipython",
    "version": 3
   },
   "file_extension": ".py",
   "mimetype": "text/x-python",
   "name": "python",
   "nbconvert_exporter": "python",
   "pygments_lexer": "ipython3",
   "version": "3.11.5"
  }
 },
 "nbformat": 4,
 "nbformat_minor": 5
}
